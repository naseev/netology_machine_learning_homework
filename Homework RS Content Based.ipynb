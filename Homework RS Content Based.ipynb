{
 "cells": [
  {
   "cell_type": "markdown",
   "metadata": {},
   "source": [
    "# Домашнее задание\n",
    "\n",
    "1. Использовать dataset [MovieLens](https://grouplens.org/datasets/movielens/latest/)\n",
    " \n",
    " \n",
    "2. Построить рекомендации (регрессия, предсказываем оценку) на фичах:\n",
    "    - TF-IDF на тегах и жанрах\n",
    "    - Средние оценки (+ median, variance, etc.) пользователя и фильма\n",
    "     \n",
    "     \n",
    "3. Оценить RMSE на тестовой выборке"
   ]
  },
  {
   "cell_type": "code",
   "execution_count": 45,
   "metadata": {},
   "outputs": [],
   "source": [
    "import pandas as pd\n",
    "import numpy as np\n",
    "\n",
    "from tqdm import tqdm_notebook\n",
    "\n",
    "from sklearn.feature_extraction.text import TfidfTransformer, CountVectorizer\n",
    "from sklearn.neighbors import NearestNeighbors"
   ]
  },
  {
   "cell_type": "code",
   "execution_count": 111,
   "metadata": {},
   "outputs": [],
   "source": [
    "links = pd.read_csv('links.csv')\n",
    "movies = pd.read_csv('movies.csv')\n",
    "ratings = pd.read_csv('ratings.csv')\n",
    "tags = pd.read_csv('tags.csv')"
   ]
  },
  {
   "cell_type": "code",
   "execution_count": 40,
   "metadata": {},
   "outputs": [],
   "source": [
    "# создать колонки в таблице movies:\n",
    "    # средняя оценка фильма исходя из тега\n",
    "    # средняя оценка фильма исходя из жанра\n",
    "    # target: средняя оценка данного фильма по всем пользователям"
   ]
  },
  {
   "cell_type": "code",
   "execution_count": 188,
   "metadata": {},
   "outputs": [],
   "source": [
    "avg_rating = ratings.groupby('movieId')[['rating']].mean().sort_values('rating', ascending=False)"
   ]
  },
  {
   "cell_type": "code",
   "execution_count": 189,
   "metadata": {},
   "outputs": [],
   "source": [
    "avg_rating = avg_rating.reset_index()"
   ]
  },
  {
   "cell_type": "code",
   "execution_count": 203,
   "metadata": {},
   "outputs": [
    {
     "data": {
      "text/html": [
       "<div>\n",
       "<style scoped>\n",
       "    .dataframe tbody tr th:only-of-type {\n",
       "        vertical-align: middle;\n",
       "    }\n",
       "\n",
       "    .dataframe tbody tr th {\n",
       "        vertical-align: top;\n",
       "    }\n",
       "\n",
       "    .dataframe thead th {\n",
       "        text-align: right;\n",
       "    }\n",
       "</style>\n",
       "<table border=\"1\" class=\"dataframe\">\n",
       "  <thead>\n",
       "    <tr style=\"text-align: right;\">\n",
       "      <th></th>\n",
       "      <th>movieId</th>\n",
       "      <th>rating</th>\n",
       "    </tr>\n",
       "  </thead>\n",
       "  <tbody>\n",
       "    <tr>\n",
       "      <td>0</td>\n",
       "      <td>88448</td>\n",
       "      <td>5.0</td>\n",
       "    </tr>\n",
       "    <tr>\n",
       "      <td>1</td>\n",
       "      <td>100556</td>\n",
       "      <td>5.0</td>\n",
       "    </tr>\n",
       "    <tr>\n",
       "      <td>2</td>\n",
       "      <td>143031</td>\n",
       "      <td>5.0</td>\n",
       "    </tr>\n",
       "    <tr>\n",
       "      <td>3</td>\n",
       "      <td>143511</td>\n",
       "      <td>5.0</td>\n",
       "    </tr>\n",
       "    <tr>\n",
       "      <td>4</td>\n",
       "      <td>143559</td>\n",
       "      <td>5.0</td>\n",
       "    </tr>\n",
       "    <tr>\n",
       "      <td>...</td>\n",
       "      <td>...</td>\n",
       "      <td>...</td>\n",
       "    </tr>\n",
       "    <tr>\n",
       "      <td>9719</td>\n",
       "      <td>157172</td>\n",
       "      <td>0.5</td>\n",
       "    </tr>\n",
       "    <tr>\n",
       "      <td>9720</td>\n",
       "      <td>85334</td>\n",
       "      <td>0.5</td>\n",
       "    </tr>\n",
       "    <tr>\n",
       "      <td>9721</td>\n",
       "      <td>53453</td>\n",
       "      <td>0.5</td>\n",
       "    </tr>\n",
       "    <tr>\n",
       "      <td>9722</td>\n",
       "      <td>8494</td>\n",
       "      <td>0.5</td>\n",
       "    </tr>\n",
       "    <tr>\n",
       "      <td>9723</td>\n",
       "      <td>71810</td>\n",
       "      <td>0.5</td>\n",
       "    </tr>\n",
       "  </tbody>\n",
       "</table>\n",
       "<p>9724 rows × 2 columns</p>\n",
       "</div>"
      ],
      "text/plain": [
       "      movieId  rating\n",
       "0       88448     5.0\n",
       "1      100556     5.0\n",
       "2      143031     5.0\n",
       "3      143511     5.0\n",
       "4      143559     5.0\n",
       "...       ...     ...\n",
       "9719   157172     0.5\n",
       "9720    85334     0.5\n",
       "9721    53453     0.5\n",
       "9722     8494     0.5\n",
       "9723    71810     0.5\n",
       "\n",
       "[9724 rows x 2 columns]"
      ]
     },
     "execution_count": 203,
     "metadata": {},
     "output_type": "execute_result"
    }
   ],
   "source": [
    "avg_rating"
   ]
  },
  {
   "cell_type": "markdown",
   "metadata": {},
   "source": [
    "#### Считаем средний рейтинг фильмов исходя из жанра:"
   ]
  },
  {
   "cell_type": "code",
   "execution_count": 41,
   "metadata": {},
   "outputs": [],
   "source": [
    "def change_string(s):\n",
    "    return ' '.join(s.replace(' ', '').replace('-', '').split('|'))"
   ]
  },
  {
   "cell_type": "code",
   "execution_count": 42,
   "metadata": {},
   "outputs": [],
   "source": [
    "movie_genres = [change_string(g) for g in movies.genres.values]"
   ]
  },
  {
   "cell_type": "code",
   "execution_count": 43,
   "metadata": {},
   "outputs": [
    {
     "data": {
      "text/plain": [
       "['Adventure Animation Children Comedy Fantasy',\n",
       " 'Adventure Children Fantasy',\n",
       " 'Comedy Romance',\n",
       " 'Comedy Drama Romance',\n",
       " 'Comedy',\n",
       " 'Action Crime Thriller',\n",
       " 'Comedy Romance',\n",
       " 'Adventure Children',\n",
       " 'Action',\n",
       " 'Action Adventure Thriller']"
      ]
     },
     "execution_count": 43,
     "metadata": {},
     "output_type": "execute_result"
    }
   ],
   "source": [
    "movie_genres[:10]"
   ]
  },
  {
   "cell_type": "code",
   "execution_count": 46,
   "metadata": {},
   "outputs": [],
   "source": [
    "count_vect = CountVectorizer()\n",
    "X_train_counts = count_vect.fit_transform(movie_genres)"
   ]
  },
  {
   "cell_type": "code",
   "execution_count": 47,
   "metadata": {},
   "outputs": [],
   "source": [
    "tfidf_transformer = TfidfTransformer()\n",
    "X_train_tfidf = tfidf_transformer.fit_transform(X_train_counts)"
   ]
  },
  {
   "cell_type": "code",
   "execution_count": 48,
   "metadata": {},
   "outputs": [
    {
     "data": {
      "text/plain": [
       "NearestNeighbors(algorithm='auto', leaf_size=30, metric='euclidean',\n",
       "                 metric_params=None, n_jobs=-1, n_neighbors=7, p=2, radius=1.0)"
      ]
     },
     "execution_count": 48,
     "metadata": {},
     "output_type": "execute_result"
    }
   ],
   "source": [
    "neigh = NearestNeighbors(n_neighbors=7, n_jobs=-1, metric='euclidean') \n",
    "neigh.fit(X_train_tfidf)"
   ]
  },
  {
   "cell_type": "code",
   "execution_count": 49,
   "metadata": {},
   "outputs": [],
   "source": [
    "test = change_string(\"Adventure|Comedy|Fantasy|Crime\")\n",
    "\n",
    "predict = count_vect.transform([test])\n",
    "X_tfidf2 = tfidf_transformer.transform(predict)\n",
    "\n",
    "res = neigh.kneighbors(X_tfidf2, return_distance=True)"
   ]
  },
  {
   "cell_type": "code",
   "execution_count": 50,
   "metadata": {},
   "outputs": [
    {
     "data": {
      "text/plain": [
       "(array([[0.42079615, 0.53300564, 0.54288608, 0.54288608, 0.54288608,\n",
       "         0.54288608, 0.54288608]]),\n",
       " array([[6774, 9096, 5636, 6723, 3376, 7496, 9717]], dtype=int64))"
      ]
     },
     "execution_count": 50,
     "metadata": {},
     "output_type": "execute_result"
    }
   ],
   "source": [
    "res"
   ]
  },
  {
   "cell_type": "code",
   "execution_count": 61,
   "metadata": {},
   "outputs": [],
   "source": [
    "similar_genres = movies.iloc[res[1][0]]"
   ]
  },
  {
   "cell_type": "code",
   "execution_count": 69,
   "metadata": {},
   "outputs": [],
   "source": [
    "joined_genres = similar_genres.join(avg_rating.set_index('movieId'), on='movieId')"
   ]
  },
  {
   "cell_type": "code",
   "execution_count": 73,
   "metadata": {},
   "outputs": [
    {
     "data": {
      "text/plain": [
       "3.48111658456486"
      ]
     },
     "execution_count": 73,
     "metadata": {},
     "output_type": "execute_result"
    }
   ],
   "source": [
    "np.mean(joined_genres['rating'])"
   ]
  },
  {
   "cell_type": "markdown",
   "metadata": {},
   "source": [
    "#### Считаем средний рейтинг фильмов уже исходя из тегов:"
   ]
  },
  {
   "cell_type": "code",
   "execution_count": 160,
   "metadata": {},
   "outputs": [],
   "source": [
    "movies_with_tags = movies.join(tags.set_index('movieId'), on='movieId')"
   ]
  },
  {
   "cell_type": "code",
   "execution_count": 161,
   "metadata": {},
   "outputs": [],
   "source": [
    "movies_with_tags.dropna(inplace=True)"
   ]
  },
  {
   "cell_type": "code",
   "execution_count": 162,
   "metadata": {},
   "outputs": [
    {
     "data": {
      "application/vnd.jupyter.widget-view+json": {
       "model_id": "1a06c5d3f1924b71b67fd0fcb4ea2f79",
       "version_major": 2,
       "version_minor": 0
      },
      "text/plain": [
       "HBox(children=(IntProgress(value=0, max=1572), HTML(value='')))"
      ]
     },
     "metadata": {},
     "output_type": "display_data"
    },
    {
     "name": "stdout",
     "output_type": "stream",
     "text": [
      "\n"
     ]
    }
   ],
   "source": [
    "tag_strings = []\n",
    "movies_names = []\n",
    "\n",
    "for movie, group in tqdm_notebook(movies_with_tags.groupby('title')):\n",
    "    tag_strings.append(' '.join([str(s).replace(' ', '').replace('-', '') for s in group.tag.values]))\n",
    "    movies_names.append(movie)"
   ]
  },
  {
   "cell_type": "code",
   "execution_count": 163,
   "metadata": {},
   "outputs": [],
   "source": [
    "d = {'title': movies_names, 'tag': tag_strings}"
   ]
  },
  {
   "cell_type": "code",
   "execution_count": 164,
   "metadata": {},
   "outputs": [],
   "source": [
    "movies_tags = pd.DataFrame(d)"
   ]
  },
  {
   "cell_type": "code",
   "execution_count": 165,
   "metadata": {},
   "outputs": [],
   "source": [
    "movies_tags_joined = movies_tags.join(movies.set_index('title'), on='title')"
   ]
  },
  {
   "cell_type": "code",
   "execution_count": 166,
   "metadata": {},
   "outputs": [
    {
     "data": {
      "text/html": [
       "<div>\n",
       "<style scoped>\n",
       "    .dataframe tbody tr th:only-of-type {\n",
       "        vertical-align: middle;\n",
       "    }\n",
       "\n",
       "    .dataframe tbody tr th {\n",
       "        vertical-align: top;\n",
       "    }\n",
       "\n",
       "    .dataframe thead th {\n",
       "        text-align: right;\n",
       "    }\n",
       "</style>\n",
       "<table border=\"1\" class=\"dataframe\">\n",
       "  <thead>\n",
       "    <tr style=\"text-align: right;\">\n",
       "      <th></th>\n",
       "      <th>title</th>\n",
       "      <th>tag</th>\n",
       "      <th>movieId</th>\n",
       "      <th>genres</th>\n",
       "    </tr>\n",
       "  </thead>\n",
       "  <tbody>\n",
       "    <tr>\n",
       "      <td>0</td>\n",
       "      <td>(500) Days of Summer (2009)</td>\n",
       "      <td>artistic Funny humorous inspiring intelligent ...</td>\n",
       "      <td>69757</td>\n",
       "      <td>Comedy|Drama|Romance</td>\n",
       "    </tr>\n",
       "    <tr>\n",
       "      <td>1</td>\n",
       "      <td>...And Justice for All (1979)</td>\n",
       "      <td>lawyers</td>\n",
       "      <td>3420</td>\n",
       "      <td>Drama|Thriller</td>\n",
       "    </tr>\n",
       "    <tr>\n",
       "      <td>2</td>\n",
       "      <td>10 Cloverfield Lane (2016)</td>\n",
       "      <td>creepy suspense</td>\n",
       "      <td>152077</td>\n",
       "      <td>Thriller</td>\n",
       "    </tr>\n",
       "    <tr>\n",
       "      <td>3</td>\n",
       "      <td>10 Things I Hate About You (1999)</td>\n",
       "      <td>Shakespearesortof</td>\n",
       "      <td>2572</td>\n",
       "      <td>Comedy|Romance</td>\n",
       "    </tr>\n",
       "    <tr>\n",
       "      <td>4</td>\n",
       "      <td>101 Dalmatians (1996)</td>\n",
       "      <td>dogs remake</td>\n",
       "      <td>1367</td>\n",
       "      <td>Adventure|Children|Comedy</td>\n",
       "    </tr>\n",
       "    <tr>\n",
       "      <td>...</td>\n",
       "      <td>...</td>\n",
       "      <td>...</td>\n",
       "      <td>...</td>\n",
       "      <td>...</td>\n",
       "    </tr>\n",
       "    <tr>\n",
       "      <td>1567</td>\n",
       "      <td>Zero Dark Thirty (2012)</td>\n",
       "      <td>Afghanistan Americanpropaganda assassination m...</td>\n",
       "      <td>98961</td>\n",
       "      <td>Action|Drama|Thriller</td>\n",
       "    </tr>\n",
       "    <tr>\n",
       "      <td>1568</td>\n",
       "      <td>Zombieland (2009)</td>\n",
       "      <td>BillMurray darkcomedy EmmaStone funny JesseEis...</td>\n",
       "      <td>71535</td>\n",
       "      <td>Action|Comedy|Horror</td>\n",
       "    </tr>\n",
       "    <tr>\n",
       "      <td>1569</td>\n",
       "      <td>Zoolander (2001)</td>\n",
       "      <td>benstiller comedy DavidBowie goofy mindlessone...</td>\n",
       "      <td>4816</td>\n",
       "      <td>Comedy</td>\n",
       "    </tr>\n",
       "    <tr>\n",
       "      <td>1570</td>\n",
       "      <td>Zulu (1964)</td>\n",
       "      <td>Africa</td>\n",
       "      <td>5899</td>\n",
       "      <td>Action|Drama|War</td>\n",
       "    </tr>\n",
       "    <tr>\n",
       "      <td>1571</td>\n",
       "      <td>eXistenZ (1999)</td>\n",
       "      <td>virtualreality</td>\n",
       "      <td>2600</td>\n",
       "      <td>Action|Sci-Fi|Thriller</td>\n",
       "    </tr>\n",
       "  </tbody>\n",
       "</table>\n",
       "<p>1574 rows × 4 columns</p>\n",
       "</div>"
      ],
      "text/plain": [
       "                                  title  \\\n",
       "0           (500) Days of Summer (2009)   \n",
       "1         ...And Justice for All (1979)   \n",
       "2            10 Cloverfield Lane (2016)   \n",
       "3     10 Things I Hate About You (1999)   \n",
       "4                 101 Dalmatians (1996)   \n",
       "...                                 ...   \n",
       "1567            Zero Dark Thirty (2012)   \n",
       "1568                  Zombieland (2009)   \n",
       "1569                   Zoolander (2001)   \n",
       "1570                        Zulu (1964)   \n",
       "1571                    eXistenZ (1999)   \n",
       "\n",
       "                                                    tag  movieId  \\\n",
       "0     artistic Funny humorous inspiring intelligent ...    69757   \n",
       "1                                               lawyers     3420   \n",
       "2                                       creepy suspense   152077   \n",
       "3                                     Shakespearesortof     2572   \n",
       "4                                           dogs remake     1367   \n",
       "...                                                 ...      ...   \n",
       "1567  Afghanistan Americanpropaganda assassination m...    98961   \n",
       "1568  BillMurray darkcomedy EmmaStone funny JesseEis...    71535   \n",
       "1569  benstiller comedy DavidBowie goofy mindlessone...     4816   \n",
       "1570                                             Africa     5899   \n",
       "1571                                     virtualreality     2600   \n",
       "\n",
       "                         genres  \n",
       "0          Comedy|Drama|Romance  \n",
       "1                Drama|Thriller  \n",
       "2                      Thriller  \n",
       "3                Comedy|Romance  \n",
       "4     Adventure|Children|Comedy  \n",
       "...                         ...  \n",
       "1567      Action|Drama|Thriller  \n",
       "1568       Action|Comedy|Horror  \n",
       "1569                     Comedy  \n",
       "1570           Action|Drama|War  \n",
       "1571     Action|Sci-Fi|Thriller  \n",
       "\n",
       "[1574 rows x 4 columns]"
      ]
     },
     "execution_count": 166,
     "metadata": {},
     "output_type": "execute_result"
    }
   ],
   "source": [
    "movies_tags_joined"
   ]
  },
  {
   "cell_type": "code",
   "execution_count": 116,
   "metadata": {},
   "outputs": [],
   "source": [
    "count_vect = CountVectorizer()\n",
    "X_train_counts = count_vect.fit_transform(tag_strings)"
   ]
  },
  {
   "cell_type": "code",
   "execution_count": 117,
   "metadata": {},
   "outputs": [],
   "source": [
    "tfidf_transformer = TfidfTransformer()\n",
    "X_train_tfidf = tfidf_transformer.fit_transform(X_train_counts)"
   ]
  },
  {
   "cell_type": "code",
   "execution_count": 118,
   "metadata": {},
   "outputs": [
    {
     "data": {
      "text/plain": [
       "NearestNeighbors(algorithm='auto', leaf_size=30, metric='manhattan',\n",
       "                 metric_params=None, n_jobs=-1, n_neighbors=10, p=2,\n",
       "                 radius=1.0)"
      ]
     },
     "execution_count": 118,
     "metadata": {},
     "output_type": "execute_result"
    }
   ],
   "source": [
    "neigh = NearestNeighbors(n_neighbors=10, n_jobs=-1, metric='manhattan') \n",
    "neigh.fit(X_train_tfidf)"
   ]
  },
  {
   "cell_type": "code",
   "execution_count": 119,
   "metadata": {},
   "outputs": [],
   "source": [
    "test = change_string('pixar pixar fun')\n",
    "\n",
    "predict = count_vect.transform([test])\n",
    "X_tfidf2 = tfidf_transformer.transform(predict)\n",
    "\n",
    "res = neigh.kneighbors(X_tfidf2, return_distance=True)"
   ]
  },
  {
   "cell_type": "code",
   "execution_count": 121,
   "metadata": {},
   "outputs": [],
   "source": [
    "similar_tags = movies.iloc[res[1][0]]"
   ]
  },
  {
   "cell_type": "code",
   "execution_count": 123,
   "metadata": {},
   "outputs": [],
   "source": [
    "joined_tags = similar_tags.join(avg_rating.set_index('movieId'), on='movieId')"
   ]
  },
  {
   "cell_type": "code",
   "execution_count": 125,
   "metadata": {},
   "outputs": [
    {
     "data": {
      "text/plain": [
       "3.8447485575537015"
      ]
     },
     "execution_count": 125,
     "metadata": {},
     "output_type": "execute_result"
    }
   ],
   "source": [
    "np.mean(joined_tags['rating'])"
   ]
  },
  {
   "cell_type": "markdown",
   "metadata": {},
   "source": [
    "#### Теперь создаем цикл для посчета среднего рейтинга похожих жанров для всего массива:"
   ]
  },
  {
   "cell_type": "code",
   "execution_count": 215,
   "metadata": {},
   "outputs": [],
   "source": [
    "avg_genre_rating = []"
   ]
  },
  {
   "cell_type": "code",
   "execution_count": 216,
   "metadata": {},
   "outputs": [],
   "source": [
    "for i in movies_tags_joined['genres']:\n",
    "    \n",
    "    test = change_string(i)\n",
    "\n",
    "    predict = count_vect.transform([test])\n",
    "    X_tfidf2 = tfidf_transformer.transform(predict)\n",
    "    \n",
    "    res = neigh.kneighbors(X_tfidf2, return_distance=True)\n",
    "    \n",
    "    similar_genres = movies.iloc[res[1][0]]\n",
    "    \n",
    "    joined_genres = similar_genres.join(avg_rating.set_index('movieId'), on='movieId')\n",
    "    \n",
    "    avg_genre_rating.append(np.mean(joined_genres['rating']))"
   ]
  },
  {
   "cell_type": "code",
   "execution_count": 217,
   "metadata": {},
   "outputs": [],
   "source": [
    "avg_genre_rating = pd.DataFrame(avg_genre_rating, columns = ['avg_genre_rating'])"
   ]
  },
  {
   "cell_type": "markdown",
   "metadata": {},
   "source": [
    "#### Теперь создаем цикл для посчета среднего рейтинга похожих тегов для всего массива:"
   ]
  },
  {
   "cell_type": "code",
   "execution_count": 226,
   "metadata": {},
   "outputs": [],
   "source": [
    "avg_tag_rating = []"
   ]
  },
  {
   "cell_type": "code",
   "execution_count": 227,
   "metadata": {},
   "outputs": [],
   "source": [
    "for i in movies_tags_joined['tag']:\n",
    "    \n",
    "    test = change_string(i)\n",
    "\n",
    "    predict = count_vect.transform([test])\n",
    "    X_tfidf2 = tfidf_transformer.transform(predict)\n",
    "    \n",
    "    res = neigh.kneighbors(X_tfidf2, return_distance=True)\n",
    "    \n",
    "    similar_tags = movies.iloc[res[1][0]]\n",
    "    \n",
    "    joined_tags = similar_tags.join(avg_rating.set_index('movieId'), on='movieId')\n",
    "    \n",
    "    avg_tag_rating.append(np.mean(joined_tags['rating']))"
   ]
  },
  {
   "cell_type": "code",
   "execution_count": 228,
   "metadata": {},
   "outputs": [],
   "source": [
    "avg_tag_rating = pd.DataFrame(avg_tag_rating, columns = ['avg_tag_rating'])"
   ]
  },
  {
   "cell_type": "markdown",
   "metadata": {},
   "source": [
    "#### Добавляем средние оценки к нашей таблице:"
   ]
  },
  {
   "cell_type": "code",
   "execution_count": 229,
   "metadata": {},
   "outputs": [],
   "source": [
    "movies_tags_final = movies_tags_joined.join(avg_rating.set_index('movieId'), on='movieId')"
   ]
  },
  {
   "cell_type": "code",
   "execution_count": 230,
   "metadata": {},
   "outputs": [],
   "source": [
    "del movies_tags_final['avg_rating']"
   ]
  },
  {
   "cell_type": "code",
   "execution_count": 231,
   "metadata": {},
   "outputs": [],
   "source": [
    "movies_tags_final['avg_genre_rating'] = avg_genre_rating"
   ]
  },
  {
   "cell_type": "code",
   "execution_count": 232,
   "metadata": {},
   "outputs": [],
   "source": [
    "movies_tags_final['avg_tag_rating'] = avg_tag_rating"
   ]
  },
  {
   "cell_type": "code",
   "execution_count": 233,
   "metadata": {},
   "outputs": [
    {
     "data": {
      "text/html": [
       "<div>\n",
       "<style scoped>\n",
       "    .dataframe tbody tr th:only-of-type {\n",
       "        vertical-align: middle;\n",
       "    }\n",
       "\n",
       "    .dataframe tbody tr th {\n",
       "        vertical-align: top;\n",
       "    }\n",
       "\n",
       "    .dataframe thead th {\n",
       "        text-align: right;\n",
       "    }\n",
       "</style>\n",
       "<table border=\"1\" class=\"dataframe\">\n",
       "  <thead>\n",
       "    <tr style=\"text-align: right;\">\n",
       "      <th></th>\n",
       "      <th>title</th>\n",
       "      <th>tag</th>\n",
       "      <th>movieId</th>\n",
       "      <th>genres</th>\n",
       "      <th>rating</th>\n",
       "      <th>avg_genre_rating</th>\n",
       "      <th>avg_tag_rating</th>\n",
       "    </tr>\n",
       "  </thead>\n",
       "  <tbody>\n",
       "    <tr>\n",
       "      <td>0</td>\n",
       "      <td>(500) Days of Summer (2009)</td>\n",
       "      <td>artistic Funny humorous inspiring intelligent ...</td>\n",
       "      <td>69757</td>\n",
       "      <td>Comedy|Drama|Romance</td>\n",
       "      <td>3.666667</td>\n",
       "      <td>3.774286</td>\n",
       "      <td>3.844749</td>\n",
       "    </tr>\n",
       "    <tr>\n",
       "      <td>1</td>\n",
       "      <td>...And Justice for All (1979)</td>\n",
       "      <td>lawyers</td>\n",
       "      <td>3420</td>\n",
       "      <td>Drama|Thriller</td>\n",
       "      <td>3.166667</td>\n",
       "      <td>3.844749</td>\n",
       "      <td>3.559577</td>\n",
       "    </tr>\n",
       "    <tr>\n",
       "      <td>2</td>\n",
       "      <td>10 Cloverfield Lane (2016)</td>\n",
       "      <td>creepy suspense</td>\n",
       "      <td>152077</td>\n",
       "      <td>Thriller</td>\n",
       "      <td>3.678571</td>\n",
       "      <td>3.844749</td>\n",
       "      <td>3.844749</td>\n",
       "    </tr>\n",
       "    <tr>\n",
       "      <td>3</td>\n",
       "      <td>10 Things I Hate About You (1999)</td>\n",
       "      <td>Shakespearesortof</td>\n",
       "      <td>2572</td>\n",
       "      <td>Comedy|Romance</td>\n",
       "      <td>3.527778</td>\n",
       "      <td>3.721490</td>\n",
       "      <td>3.665387</td>\n",
       "    </tr>\n",
       "    <tr>\n",
       "      <td>4</td>\n",
       "      <td>101 Dalmatians (1996)</td>\n",
       "      <td>dogs remake</td>\n",
       "      <td>1367</td>\n",
       "      <td>Adventure|Children|Comedy</td>\n",
       "      <td>3.074468</td>\n",
       "      <td>3.394653</td>\n",
       "      <td>3.844749</td>\n",
       "    </tr>\n",
       "    <tr>\n",
       "      <td>...</td>\n",
       "      <td>...</td>\n",
       "      <td>...</td>\n",
       "      <td>...</td>\n",
       "      <td>...</td>\n",
       "      <td>...</td>\n",
       "      <td>...</td>\n",
       "      <td>...</td>\n",
       "    </tr>\n",
       "    <tr>\n",
       "      <td>1567</td>\n",
       "      <td>Zero Dark Thirty (2012)</td>\n",
       "      <td>Afghanistan Americanpropaganda assassination m...</td>\n",
       "      <td>98961</td>\n",
       "      <td>Action|Drama|Thriller</td>\n",
       "      <td>4.107143</td>\n",
       "      <td>3.553460</td>\n",
       "      <td>3.708913</td>\n",
       "    </tr>\n",
       "    <tr>\n",
       "      <td>1568</td>\n",
       "      <td>Zombieland (2009)</td>\n",
       "      <td>BillMurray darkcomedy EmmaStone funny JesseEis...</td>\n",
       "      <td>71535</td>\n",
       "      <td>Action|Comedy|Horror</td>\n",
       "      <td>3.877358</td>\n",
       "      <td>3.629167</td>\n",
       "      <td>3.501492</td>\n",
       "    </tr>\n",
       "    <tr>\n",
       "      <td>1569</td>\n",
       "      <td>Zoolander (2001)</td>\n",
       "      <td>benstiller comedy DavidBowie goofy mindlessone...</td>\n",
       "      <td>4816</td>\n",
       "      <td>Comedy</td>\n",
       "      <td>3.509259</td>\n",
       "      <td>3.639387</td>\n",
       "      <td>3.844749</td>\n",
       "    </tr>\n",
       "    <tr>\n",
       "      <td>1570</td>\n",
       "      <td>Zulu (1964)</td>\n",
       "      <td>Africa</td>\n",
       "      <td>5899</td>\n",
       "      <td>Action|Drama|War</td>\n",
       "      <td>4.000000</td>\n",
       "      <td>3.524017</td>\n",
       "      <td>3.844749</td>\n",
       "    </tr>\n",
       "    <tr>\n",
       "      <td>1571</td>\n",
       "      <td>eXistenZ (1999)</td>\n",
       "      <td>virtualreality</td>\n",
       "      <td>2600</td>\n",
       "      <td>Action|Sci-Fi|Thriller</td>\n",
       "      <td>3.863636</td>\n",
       "      <td>3.629167</td>\n",
       "      <td>3.844749</td>\n",
       "    </tr>\n",
       "  </tbody>\n",
       "</table>\n",
       "<p>1574 rows × 7 columns</p>\n",
       "</div>"
      ],
      "text/plain": [
       "                                  title  \\\n",
       "0           (500) Days of Summer (2009)   \n",
       "1         ...And Justice for All (1979)   \n",
       "2            10 Cloverfield Lane (2016)   \n",
       "3     10 Things I Hate About You (1999)   \n",
       "4                 101 Dalmatians (1996)   \n",
       "...                                 ...   \n",
       "1567            Zero Dark Thirty (2012)   \n",
       "1568                  Zombieland (2009)   \n",
       "1569                   Zoolander (2001)   \n",
       "1570                        Zulu (1964)   \n",
       "1571                    eXistenZ (1999)   \n",
       "\n",
       "                                                    tag  movieId  \\\n",
       "0     artistic Funny humorous inspiring intelligent ...    69757   \n",
       "1                                               lawyers     3420   \n",
       "2                                       creepy suspense   152077   \n",
       "3                                     Shakespearesortof     2572   \n",
       "4                                           dogs remake     1367   \n",
       "...                                                 ...      ...   \n",
       "1567  Afghanistan Americanpropaganda assassination m...    98961   \n",
       "1568  BillMurray darkcomedy EmmaStone funny JesseEis...    71535   \n",
       "1569  benstiller comedy DavidBowie goofy mindlessone...     4816   \n",
       "1570                                             Africa     5899   \n",
       "1571                                     virtualreality     2600   \n",
       "\n",
       "                         genres    rating  avg_genre_rating  avg_tag_rating  \n",
       "0          Comedy|Drama|Romance  3.666667          3.774286        3.844749  \n",
       "1                Drama|Thriller  3.166667          3.844749        3.559577  \n",
       "2                      Thriller  3.678571          3.844749        3.844749  \n",
       "3                Comedy|Romance  3.527778          3.721490        3.665387  \n",
       "4     Adventure|Children|Comedy  3.074468          3.394653        3.844749  \n",
       "...                         ...       ...               ...             ...  \n",
       "1567      Action|Drama|Thriller  4.107143          3.553460        3.708913  \n",
       "1568       Action|Comedy|Horror  3.877358          3.629167        3.501492  \n",
       "1569                     Comedy  3.509259          3.639387        3.844749  \n",
       "1570           Action|Drama|War  4.000000          3.524017        3.844749  \n",
       "1571     Action|Sci-Fi|Thriller  3.863636          3.629167        3.844749  \n",
       "\n",
       "[1574 rows x 7 columns]"
      ]
     },
     "execution_count": 233,
     "metadata": {},
     "output_type": "execute_result"
    }
   ],
   "source": [
    "movies_tags_final"
   ]
  },
  {
   "cell_type": "markdown",
   "metadata": {},
   "source": [
    "#### Строим модель регрессии:"
   ]
  },
  {
   "cell_type": "code",
   "execution_count": 234,
   "metadata": {},
   "outputs": [],
   "source": [
    "from sklearn.model_selection import cross_val_score\n",
    "from sklearn.linear_model import LinearRegression\n",
    "from sklearn.metrics import mean_squared_error"
   ]
  },
  {
   "cell_type": "code",
   "execution_count": 250,
   "metadata": {},
   "outputs": [],
   "source": [
    "data = movies_tags_final.dropna()"
   ]
  },
  {
   "cell_type": "code",
   "execution_count": 251,
   "metadata": {},
   "outputs": [],
   "source": [
    "X = data[['avg_genre_rating', 'avg_tag_rating']]\n",
    "y = data['rating'].fillna('')"
   ]
  },
  {
   "cell_type": "code",
   "execution_count": 252,
   "metadata": {},
   "outputs": [],
   "source": [
    "lin_reg = LinearRegression()"
   ]
  },
  {
   "cell_type": "code",
   "execution_count": 255,
   "metadata": {},
   "outputs": [],
   "source": [
    "rmse_cv = np.sqrt(-cross_val_score(lin_reg, X, y,  scoring=\"neg_mean_squared_error\", cv = 5))"
   ]
  },
  {
   "cell_type": "code",
   "execution_count": 256,
   "metadata": {},
   "outputs": [
    {
     "name": "stdout",
     "output_type": "stream",
     "text": [
      "Root Mean Squared Error: 0.5210759920442583\n"
     ]
    }
   ],
   "source": [
    "print(\"Root Mean Squared Error: {}\".format(np.mean(rmse_cv)))"
   ]
  }
 ],
 "metadata": {
  "kernelspec": {
   "display_name": "Python 3",
   "language": "python",
   "name": "python3"
  },
  "language_info": {
   "codemirror_mode": {
    "name": "ipython",
    "version": 3
   },
   "file_extension": ".py",
   "mimetype": "text/x-python",
   "name": "python",
   "nbconvert_exporter": "python",
   "pygments_lexer": "ipython3",
   "version": "3.7.4"
  }
 },
 "nbformat": 4,
 "nbformat_minor": 2
}
