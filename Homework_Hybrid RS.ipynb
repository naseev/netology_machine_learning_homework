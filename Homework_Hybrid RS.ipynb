{
 "cells": [
  {
   "cell_type": "markdown",
   "metadata": {},
   "source": [
    "### Что делать?\n",
    "1. Датасет ml-latest\n",
    "2. Вспомнить подходы, которые мы разбирали\n",
    "3. Выбрать понравившийся подход к гибридным системам\n",
    "4. Написать свою\n",
    "\n",
    "[Материалы здесь](https://github.com/ALKONDR/netology-recsys/blob/master/lecture-5/lecture-5-part-2.ipynb)"
   ]
  },
  {
   "cell_type": "code",
   "execution_count": 186,
   "metadata": {},
   "outputs": [],
   "source": [
    "import pandas as pd\n",
    "import numpy as np\n",
    "\n",
    "from tqdm import tqdm_notebook\n",
    "\n",
    "from sklearn.feature_extraction.text import TfidfTransformer, CountVectorizer\n",
    "from sklearn.neighbors import NearestNeighbors\n",
    "\n",
    "from surprise import SVD, SVDpp\n",
    "from surprise import Dataset\n",
    "from surprise import accuracy\n",
    "from surprise import Reader\n",
    "from surprise.model_selection import train_test_split"
   ]
  },
  {
   "cell_type": "code",
   "execution_count": 187,
   "metadata": {},
   "outputs": [],
   "source": [
    "links = pd.read_csv('links.csv')\n",
    "movies = pd.read_csv('movies.csv')\n",
    "ratings = pd.read_csv('ratings.csv')\n",
    "tags = pd.read_csv('tags.csv')"
   ]
  },
  {
   "cell_type": "markdown",
   "metadata": {},
   "source": [
    "Попробуем осуществить алгоритм смешивания: выберем рекомендации исходя из тегов и жанров, а затем выберем лучшие рекомендации на базе двух алгоритмов."
   ]
  },
  {
   "cell_type": "code",
   "execution_count": 188,
   "metadata": {},
   "outputs": [],
   "source": [
    "movies_with_ratings = movies.join(ratings.set_index('movieId'), on='movieId').reset_index(drop=True)\n",
    "movies_with_ratings.dropna(inplace=True)"
   ]
  },
  {
   "cell_type": "markdown",
   "metadata": {},
   "source": [
    "Для начала выбираем наиболее похожие фильмы исходя из жанров:"
   ]
  },
  {
   "cell_type": "code",
   "execution_count": 189,
   "metadata": {},
   "outputs": [],
   "source": [
    "def change_string(s):\n",
    "    return ' '.join(s.replace(' ', '').replace('-', '').split('|'))"
   ]
  },
  {
   "cell_type": "code",
   "execution_count": 190,
   "metadata": {},
   "outputs": [],
   "source": [
    "genres = [change_string(g) for g in movies.genres.values]"
   ]
  },
  {
   "cell_type": "code",
   "execution_count": 191,
   "metadata": {},
   "outputs": [
    {
     "data": {
      "text/plain": [
       "'Adventure Animation Children Comedy Fantasy'"
      ]
     },
     "execution_count": 191,
     "metadata": {},
     "output_type": "execute_result"
    }
   ],
   "source": [
    "genres[0]"
   ]
  },
  {
   "cell_type": "code",
   "execution_count": 192,
   "metadata": {},
   "outputs": [
    {
     "data": {
      "text/plain": [
       "NearestNeighbors(algorithm='auto', leaf_size=30, metric='euclidean',\n",
       "                 metric_params=None, n_jobs=-1, n_neighbors=20, p=2,\n",
       "                 radius=1.0)"
      ]
     },
     "execution_count": 192,
     "metadata": {},
     "output_type": "execute_result"
    }
   ],
   "source": [
    "count_vect_genres = CountVectorizer()\n",
    "X_train_counts_genres = count_vect_genres.fit_transform(genres)\n",
    "\n",
    "tfidf_transformer_genres = TfidfTransformer()\n",
    "X_train_tfidf_genres = tfidf_transformer_genres.fit_transform(X_train_counts_genres)\n",
    "\n",
    "neigh_genres = NearestNeighbors(n_neighbors=20, n_jobs=-1, metric='euclidean') \n",
    "neigh_genres.fit(X_train_tfidf_genres)"
   ]
  },
  {
   "cell_type": "code",
   "execution_count": 193,
   "metadata": {},
   "outputs": [],
   "source": [
    "test = change_string(\"Adventure|Comedy|Fantasy|Crime\")\n",
    "\n",
    "predict = count_vect_genres.transform([test])\n",
    "X_tfidf2 = tfidf_transformer_genres.transform(predict)\n",
    "\n",
    "res = neigh_genres.kneighbors(X_tfidf2, return_distance=True)"
   ]
  },
  {
   "cell_type": "code",
   "execution_count": 194,
   "metadata": {},
   "outputs": [
    {
     "data": {
      "text/plain": [
       "(array([[0.42079615, 0.53300564, 0.54288608, 0.54288608, 0.54288608,\n",
       "         0.54288608, 0.54288608, 0.54288608, 0.54288608, 0.54288608,\n",
       "         0.54288608, 0.54288608, 0.54288608, 0.54288608, 0.54288608,\n",
       "         0.54288608, 0.54288608, 0.6188388 , 0.62682864, 0.62682864]]),\n",
       " array([[6774, 9096, 3576,  863, 2302, 2608, 7865, 3582, 8361, 3302, 5737,\n",
       "         6723, 5636, 3376, 7496, 5627, 9717, 2206, 6133, 5832]],\n",
       "       dtype=int64))"
      ]
     },
     "execution_count": 194,
     "metadata": {},
     "output_type": "execute_result"
    }
   ],
   "source": [
    "res"
   ]
  },
  {
   "cell_type": "code",
   "execution_count": 195,
   "metadata": {},
   "outputs": [
    {
     "data": {
      "text/html": [
       "<div>\n",
       "<style scoped>\n",
       "    .dataframe tbody tr th:only-of-type {\n",
       "        vertical-align: middle;\n",
       "    }\n",
       "\n",
       "    .dataframe tbody tr th {\n",
       "        vertical-align: top;\n",
       "    }\n",
       "\n",
       "    .dataframe thead th {\n",
       "        text-align: right;\n",
       "    }\n",
       "</style>\n",
       "<table border=\"1\" class=\"dataframe\">\n",
       "  <thead>\n",
       "    <tr style=\"text-align: right;\">\n",
       "      <th></th>\n",
       "      <th>movieId</th>\n",
       "      <th>title</th>\n",
       "      <th>genres</th>\n",
       "    </tr>\n",
       "  </thead>\n",
       "  <tbody>\n",
       "    <tr>\n",
       "      <td>6774</td>\n",
       "      <td>60074</td>\n",
       "      <td>Hancock (2008)</td>\n",
       "      <td>Action|Adventure|Comedy|Crime|Fantasy</td>\n",
       "    </tr>\n",
       "    <tr>\n",
       "      <td>9096</td>\n",
       "      <td>143559</td>\n",
       "      <td>L.A. Slasher (2015)</td>\n",
       "      <td>Comedy|Crime|Fantasy</td>\n",
       "    </tr>\n",
       "    <tr>\n",
       "      <td>3576</td>\n",
       "      <td>4899</td>\n",
       "      <td>Black Knight (2001)</td>\n",
       "      <td>Adventure|Comedy|Fantasy</td>\n",
       "    </tr>\n",
       "    <tr>\n",
       "      <td>863</td>\n",
       "      <td>1136</td>\n",
       "      <td>Monty Python and the Holy Grail (1975)</td>\n",
       "      <td>Adventure|Comedy|Fantasy</td>\n",
       "    </tr>\n",
       "    <tr>\n",
       "      <td>2302</td>\n",
       "      <td>3052</td>\n",
       "      <td>Dogma (1999)</td>\n",
       "      <td>Adventure|Comedy|Fantasy</td>\n",
       "    </tr>\n",
       "    <tr>\n",
       "      <td>2608</td>\n",
       "      <td>3489</td>\n",
       "      <td>Hook (1991)</td>\n",
       "      <td>Adventure|Comedy|Fantasy</td>\n",
       "    </tr>\n",
       "    <tr>\n",
       "      <td>7865</td>\n",
       "      <td>94015</td>\n",
       "      <td>Mirror Mirror (2012)</td>\n",
       "      <td>Adventure|Comedy|Fantasy</td>\n",
       "    </tr>\n",
       "    <tr>\n",
       "      <td>3582</td>\n",
       "      <td>4911</td>\n",
       "      <td>Jabberwocky (1977)</td>\n",
       "      <td>Adventure|Comedy|Fantasy</td>\n",
       "    </tr>\n",
       "    <tr>\n",
       "      <td>8361</td>\n",
       "      <td>109042</td>\n",
       "      <td>Knights of Badassdom (2013)</td>\n",
       "      <td>Adventure|Comedy|Fantasy</td>\n",
       "    </tr>\n",
       "    <tr>\n",
       "      <td>3302</td>\n",
       "      <td>4467</td>\n",
       "      <td>Adventures of Baron Munchausen, The (1988)</td>\n",
       "      <td>Adventure|Comedy|Fantasy</td>\n",
       "    </tr>\n",
       "    <tr>\n",
       "      <td>5737</td>\n",
       "      <td>30810</td>\n",
       "      <td>Life Aquatic with Steve Zissou, The (2004)</td>\n",
       "      <td>Adventure|Comedy|Fantasy</td>\n",
       "    </tr>\n",
       "    <tr>\n",
       "      <td>6723</td>\n",
       "      <td>58972</td>\n",
       "      <td>Nim's Island (2008)</td>\n",
       "      <td>Adventure|Comedy|Fantasy</td>\n",
       "    </tr>\n",
       "    <tr>\n",
       "      <td>5636</td>\n",
       "      <td>27368</td>\n",
       "      <td>Asterix &amp; Obelix: Mission Cleopatra (Astérix &amp;...</td>\n",
       "      <td>Adventure|Comedy|Fantasy</td>\n",
       "    </tr>\n",
       "    <tr>\n",
       "      <td>3376</td>\n",
       "      <td>4591</td>\n",
       "      <td>Erik the Viking (1989)</td>\n",
       "      <td>Adventure|Comedy|Fantasy</td>\n",
       "    </tr>\n",
       "    <tr>\n",
       "      <td>7496</td>\n",
       "      <td>82854</td>\n",
       "      <td>Gulliver's Travels (2010)</td>\n",
       "      <td>Adventure|Comedy|Fantasy</td>\n",
       "    </tr>\n",
       "    <tr>\n",
       "      <td>5627</td>\n",
       "      <td>27251</td>\n",
       "      <td>10th Kingdom, The (2000)</td>\n",
       "      <td>Adventure|Comedy|Fantasy</td>\n",
       "    </tr>\n",
       "    <tr>\n",
       "      <td>9717</td>\n",
       "      <td>188833</td>\n",
       "      <td>The Man Who Killed Don Quixote (2018)</td>\n",
       "      <td>Adventure|Comedy|Fantasy</td>\n",
       "    </tr>\n",
       "    <tr>\n",
       "      <td>2206</td>\n",
       "      <td>2931</td>\n",
       "      <td>Time of the Gypsies (Dom za vesanje) (1989)</td>\n",
       "      <td>Comedy|Crime|Drama|Fantasy</td>\n",
       "    </tr>\n",
       "    <tr>\n",
       "      <td>6133</td>\n",
       "      <td>43836</td>\n",
       "      <td>Pink Panther, The (2006)</td>\n",
       "      <td>Adventure|Comedy|Crime</td>\n",
       "    </tr>\n",
       "    <tr>\n",
       "      <td>5832</td>\n",
       "      <td>32296</td>\n",
       "      <td>Miss Congeniality 2: Armed and Fabulous (2005)</td>\n",
       "      <td>Adventure|Comedy|Crime</td>\n",
       "    </tr>\n",
       "  </tbody>\n",
       "</table>\n",
       "</div>"
      ],
      "text/plain": [
       "      movieId                                              title  \\\n",
       "6774    60074                                     Hancock (2008)   \n",
       "9096   143559                                L.A. Slasher (2015)   \n",
       "3576     4899                                Black Knight (2001)   \n",
       "863      1136             Monty Python and the Holy Grail (1975)   \n",
       "2302     3052                                       Dogma (1999)   \n",
       "2608     3489                                        Hook (1991)   \n",
       "7865    94015                               Mirror Mirror (2012)   \n",
       "3582     4911                                 Jabberwocky (1977)   \n",
       "8361   109042                        Knights of Badassdom (2013)   \n",
       "3302     4467         Adventures of Baron Munchausen, The (1988)   \n",
       "5737    30810         Life Aquatic with Steve Zissou, The (2004)   \n",
       "6723    58972                                Nim's Island (2008)   \n",
       "5636    27368  Asterix & Obelix: Mission Cleopatra (Astérix &...   \n",
       "3376     4591                             Erik the Viking (1989)   \n",
       "7496    82854                          Gulliver's Travels (2010)   \n",
       "5627    27251                           10th Kingdom, The (2000)   \n",
       "9717   188833              The Man Who Killed Don Quixote (2018)   \n",
       "2206     2931        Time of the Gypsies (Dom za vesanje) (1989)   \n",
       "6133    43836                           Pink Panther, The (2006)   \n",
       "5832    32296     Miss Congeniality 2: Armed and Fabulous (2005)   \n",
       "\n",
       "                                     genres  \n",
       "6774  Action|Adventure|Comedy|Crime|Fantasy  \n",
       "9096                   Comedy|Crime|Fantasy  \n",
       "3576               Adventure|Comedy|Fantasy  \n",
       "863                Adventure|Comedy|Fantasy  \n",
       "2302               Adventure|Comedy|Fantasy  \n",
       "2608               Adventure|Comedy|Fantasy  \n",
       "7865               Adventure|Comedy|Fantasy  \n",
       "3582               Adventure|Comedy|Fantasy  \n",
       "8361               Adventure|Comedy|Fantasy  \n",
       "3302               Adventure|Comedy|Fantasy  \n",
       "5737               Adventure|Comedy|Fantasy  \n",
       "6723               Adventure|Comedy|Fantasy  \n",
       "5636               Adventure|Comedy|Fantasy  \n",
       "3376               Adventure|Comedy|Fantasy  \n",
       "7496               Adventure|Comedy|Fantasy  \n",
       "5627               Adventure|Comedy|Fantasy  \n",
       "9717               Adventure|Comedy|Fantasy  \n",
       "2206             Comedy|Crime|Drama|Fantasy  \n",
       "6133                 Adventure|Comedy|Crime  \n",
       "5832                 Adventure|Comedy|Crime  "
      ]
     },
     "execution_count": 195,
     "metadata": {},
     "output_type": "execute_result"
    }
   ],
   "source": [
    "movies.iloc[res[1][0]]"
   ]
  },
  {
   "cell_type": "code",
   "execution_count": 196,
   "metadata": {},
   "outputs": [
    {
     "data": {
      "application/vnd.jupyter.widget-view+json": {
       "model_id": "a4709b85a8e546738e535f61866fe51e",
       "version_major": 2,
       "version_minor": 0
      },
      "text/plain": [
       "HBox(children=(IntProgress(value=1, bar_style='info', max=1), HTML(value='')))"
      ]
     },
     "metadata": {},
     "output_type": "display_data"
    },
    {
     "name": "stdout",
     "output_type": "stream",
     "text": [
      "\n"
     ]
    }
   ],
   "source": [
    "title_genres = {}\n",
    "\n",
    "for index, row in tqdm_notebook(movies.iterrows()):\n",
    "    title_genres[row.title] = row.genres"
   ]
  },
  {
   "cell_type": "markdown",
   "metadata": {},
   "source": [
    "Теперь разберемся с тегами:"
   ]
  },
  {
   "cell_type": "code",
   "execution_count": 197,
   "metadata": {},
   "outputs": [],
   "source": [
    "movies_with_tags = movies.join(tags.set_index('movieId'), on='movieId').reset_index(drop=True)"
   ]
  },
  {
   "cell_type": "code",
   "execution_count": 198,
   "metadata": {},
   "outputs": [
    {
     "data": {
      "application/vnd.jupyter.widget-view+json": {
       "model_id": "4ff376f72bae4017be934f517fa8c59f",
       "version_major": 2,
       "version_minor": 0
      },
      "text/plain": [
       "HBox(children=(IntProgress(value=0, max=9737), HTML(value='')))"
      ]
     },
     "metadata": {},
     "output_type": "display_data"
    },
    {
     "name": "stdout",
     "output_type": "stream",
     "text": [
      "\n"
     ]
    }
   ],
   "source": [
    "tag_strings = []\n",
    "movies_tags = []\n",
    "\n",
    "for movie, group in tqdm_notebook(movies_with_tags.groupby('title')):\n",
    "    tag_strings.append(' '.join([str(s).replace(' ', '').replace('-', '') for s in group.tag.values]))\n",
    "    movies_tags.append(movie)"
   ]
  },
  {
   "cell_type": "code",
   "execution_count": 199,
   "metadata": {},
   "outputs": [],
   "source": [
    "count_vect_tags = CountVectorizer()\n",
    "X_train_counts_tags = count_vect_tags.fit_transform(tag_strings)"
   ]
  },
  {
   "cell_type": "code",
   "execution_count": 200,
   "metadata": {},
   "outputs": [],
   "source": [
    "tfidf_transformer_tags = TfidfTransformer()\n",
    "X_train_tfidf_tags = tfidf_transformer_tags.fit_transform(X_train_counts_tags)"
   ]
  },
  {
   "cell_type": "code",
   "execution_count": 201,
   "metadata": {},
   "outputs": [
    {
     "data": {
      "text/plain": [
       "NearestNeighbors(algorithm='auto', leaf_size=30, metric='manhattan',\n",
       "                 metric_params=None, n_jobs=-1, n_neighbors=10, p=2,\n",
       "                 radius=1.0)"
      ]
     },
     "execution_count": 201,
     "metadata": {},
     "output_type": "execute_result"
    }
   ],
   "source": [
    "neigh_tags = NearestNeighbors(n_neighbors=10, n_jobs=-1, metric='manhattan') \n",
    "neigh_tags.fit(X_train_tfidf_tags)"
   ]
  },
  {
   "cell_type": "code",
   "execution_count": 202,
   "metadata": {},
   "outputs": [],
   "source": [
    "test = change_string('pixar pixar fun ')\n",
    "\n",
    "predict = count_vect_tags.transform([test])\n",
    "X_tfidf2 = tfidf_transformer_tags.transform(predict)\n",
    "\n",
    "res = neigh_tags.kneighbors(X_tfidf2, return_distance=True)"
   ]
  },
  {
   "cell_type": "code",
   "execution_count": 203,
   "metadata": {},
   "outputs": [
    {
     "name": "stdout",
     "output_type": "stream",
     "text": [
      "Magnolia (1999)\n",
      "In a Lonely Place (1950)\n",
      "Out of Time (2003)\n",
      "Our Man Flint (1965)\n",
      "Our Town (1940)\n",
      "Out Cold (1989)\n",
      "Out Cold (2001)\n",
      "Out of Sight (1998)\n",
      "Our Lady of the Assassins (Virgen de los sicarios, La) (2000)\n",
      "Out of the Past (1947)\n"
     ]
    }
   ],
   "source": [
    "for i in res[1][0]:\n",
    "    print(movies_tags[i])"
   ]
  },
  {
   "cell_type": "code",
   "execution_count": 204,
   "metadata": {},
   "outputs": [
    {
     "data": {
      "application/vnd.jupyter.widget-view+json": {
       "model_id": "bfbef3763ba3438bade7d4caf7a8022d",
       "version_major": 2,
       "version_minor": 0
      },
      "text/plain": [
       "HBox(children=(IntProgress(value=1, bar_style='info', max=1), HTML(value='')))"
      ]
     },
     "metadata": {},
     "output_type": "display_data"
    },
    {
     "name": "stdout",
     "output_type": "stream",
     "text": [
      "\n"
     ]
    }
   ],
   "source": [
    "title_tags = {}\n",
    "\n",
    "for index, row in tqdm_notebook(movies_with_tags.iterrows()):\n",
    "    title_tags[row.title] = row.tag"
   ]
  },
  {
   "cell_type": "markdown",
   "metadata": {},
   "source": [
    "Построим рекомендательную систему для пользователя на базе жанров и тегов:"
   ]
  },
  {
   "cell_type": "code",
   "execution_count": 205,
   "metadata": {},
   "outputs": [],
   "source": [
    "def recommend_for_user(user_id):\n",
    "    current_user_id = user_id\n",
    "    user_movies = movies_with_ratings[movies_with_ratings.userId == current_user_id].title.unique()\n",
    "    \n",
    "    last_user_movie = user_movies[-1]\n",
    "    \n",
    "    movie_genres = title_genres[last_user_movie]\n",
    "    movie_tags = str(title_tags[last_user_movie])\n",
    "    \n",
    "    movie_genres = change_string(movie_genres)\n",
    "    movie_tags = change_string(movie_tags)\n",
    "\n",
    "    predict_genres = count_vect_genres.transform([movie_genres])\n",
    "    X_tfidf2_genres = tfidf_transformer_genres.transform(predict_genres)\n",
    "    \n",
    "    predict_tags = count_vect_tags.transform([movie_tags])\n",
    "    X_tfidf2_tags = tfidf_transformer_tags.transform(predict_tags)\n",
    "\n",
    "    res_genres = neigh_genres.kneighbors(X_tfidf2_genres, return_distance=True)\n",
    "    res_tags = neigh_tags.kneighbors(X_tfidf2_tags, return_distance=True)\n",
    "    \n",
    "    print('Last User Movie: ', last_user_movie)\n",
    "    print('Genres of Last Movie: ', movie_genres)\n",
    "    print('Tags of Last Movie: ', movie_tags, '\\n')\n",
    "    \n",
    "    print('10 films recommendations based on genres: \\n')\n",
    "    print(movies.iloc[res_genres[1][0]][:10].title.values)\n",
    "    print('\\n')\n",
    "    print('10 films recommendations based on tags: \\n')\n",
    "    print(movies.iloc[res_tags[1][0]][:10].title.values)"
   ]
  },
  {
   "cell_type": "code",
   "execution_count": 208,
   "metadata": {},
   "outputs": [
    {
     "name": "stdout",
     "output_type": "stream",
     "text": [
      "Last User Movie:  Fargo (1996)\n",
      "Genres of Last Movie:  Comedy Crime Drama Thriller\n",
      "Tags of Last Movie:  CoenBrothers \n",
      "\n",
      "10 films recommendations based on genres: \n",
      "\n",
      "['Pulp Fiction (1994)' 'Freeway (1996)' 'Fargo (1996)'\n",
      " \"Man Bites Dog (C'est arrivé près de chez vous) (1992)\"\n",
      " 'Informant!, The (2009)' 'Leaves of Grass (2009)' 'Party Monster (2003)'\n",
      " 'In Bruges (2008)' 'Beautiful Creatures (2000)'\n",
      " 'Confessions of a Dangerous Mind (2002)']\n",
      "\n",
      "\n",
      "10 films recommendations based on tags: \n",
      "\n",
      "[\"He's Just Not That Into You (2009)\" 'Out to Sea (1997)' 'Greed (1924)'\n",
      " 'Lilya 4-Ever (Lilja 4-ever) (2002)' 'Final Cut, The (2004)'\n",
      " 'Blood and Chocolate (2007)' 'Catch and Release (2006)'\n",
      " 'Seven Up! (1964)' 'Because I Said So (2007)' \"Smokin' Aces (2006)\"]\n"
     ]
    }
   ],
   "source": [
    "recommend_for_user(5.0)"
   ]
  },
  {
   "cell_type": "code",
   "execution_count": 209,
   "metadata": {},
   "outputs": [
    {
     "name": "stdout",
     "output_type": "stream",
     "text": [
      "Last User Movie:  Bonnie and Clyde (1967)\n",
      "Genres of Last Movie:  Crime Drama\n",
      "Tags of Last Movie:  gangsters \n",
      "\n",
      "10 films recommendations based on genres: \n",
      "\n",
      "['Animal Factory (2000)' 'Crash (2004)'\n",
      " 'Three Billboards Outside Ebbing, Missouri (2017)'\n",
      " 'Good Night, and Good Luck. (2005)' 'City by the Sea (2002)'\n",
      " 'Papillon (1973)' \"Who'll Stop the Rain (1978)\"\n",
      " 'Dog Day Afternoon (1975)' 'Tsotsi (2005)'\n",
      " 'Shawshank Redemption, The (1994)']\n",
      "\n",
      "\n",
      "10 films recommendations based on tags: \n",
      "\n",
      "['Lilya 4-Ever (Lilja 4-ever) (2002)' 'Final Cut, The (2004)'\n",
      " 'Witness (1985)' 'Peanuts Movie, The (2015)' 'Epic Movie (2007)'\n",
      " 'Because I Said So (2007)' 'Norbit (2007)' 'Blood and Chocolate (2007)'\n",
      " 'Catch and Release (2006)' \"Smokin' Aces (2006)\"]\n"
     ]
    }
   ],
   "source": [
    "recommend_for_user(6.0)"
   ]
  }
 ],
 "metadata": {
  "kernelspec": {
   "display_name": "Python 3",
   "language": "python",
   "name": "python3"
  },
  "language_info": {
   "codemirror_mode": {
    "name": "ipython",
    "version": 3
   },
   "file_extension": ".py",
   "mimetype": "text/x-python",
   "name": "python",
   "nbconvert_exporter": "python",
   "pygments_lexer": "ipython3",
   "version": "3.7.4"
  }
 },
 "nbformat": 4,
 "nbformat_minor": 2
}
